{
 "cells": [
  {
   "cell_type": "code",
   "execution_count": 1,
   "metadata": {},
   "outputs": [
    {
     "name": "stderr",
     "output_type": "stream",
     "text": [
      "-- \u001b[1mAttaching packages\u001b[22m --------------------------------------- tidyverse 1.3.0 --\n",
      "\n",
      "\u001b[32m<U+221A>\u001b[39m \u001b[34mggplot2\u001b[39m 3.2.1     \u001b[32m<U+221A>\u001b[39m \u001b[34mpurrr  \u001b[39m 0.3.3\n",
      "\u001b[32m<U+221A>\u001b[39m \u001b[34mtibble \u001b[39m 2.1.3     \u001b[32m<U+221A>\u001b[39m \u001b[34mdplyr  \u001b[39m 0.8.3\n",
      "\u001b[32m<U+221A>\u001b[39m \u001b[34mtidyr  \u001b[39m 1.0.0     \u001b[32m<U+221A>\u001b[39m \u001b[34mstringr\u001b[39m 1.4.0\n",
      "\u001b[32m<U+221A>\u001b[39m \u001b[34mreadr  \u001b[39m 1.3.1     \u001b[32m<U+221A>\u001b[39m \u001b[34mforcats\u001b[39m 0.4.0\n",
      "\n",
      "-- \u001b[1mConflicts\u001b[22m ------------------------------------------ tidyverse_conflicts() --\n",
      "\u001b[31mx\u001b[39m \u001b[34mdplyr\u001b[39m::\u001b[32mfilter()\u001b[39m masks \u001b[34mstats\u001b[39m::filter()\n",
      "\u001b[31mx\u001b[39m \u001b[34mdplyr\u001b[39m::\u001b[32mlag()\u001b[39m    masks \u001b[34mstats\u001b[39m::lag()\n",
      "\n"
     ]
    }
   ],
   "source": [
    "library(tidyverse)\n",
    "library(readxl)"
   ]
  },
  {
   "cell_type": "markdown",
   "metadata": {},
   "source": [
    "# Data Preparation\n",
    "## Rice Export"
   ]
  },
  {
   "cell_type": "code",
   "execution_count": 7,
   "metadata": {},
   "outputs": [
    {
     "data": {
      "text/html": [
       "<table>\n",
       "<caption>A tibble: 6 × 9</caption>\n",
       "<thead>\n",
       "\t<tr><th scope=col>hscode</th><th scope=col>name</th><th scope=col>country_code</th><th scope=col>country_name_th</th><th scope=col>country_name_en</th><th scope=col>month</th><th scope=col>month_th</th><th scope=col>type_year</th><th scope=col>amount</th></tr>\n",
       "\t<tr><th scope=col>&lt;chr&gt;</th><th scope=col>&lt;chr&gt;</th><th scope=col>&lt;chr&gt;</th><th scope=col>&lt;chr&gt;</th><th scope=col>&lt;chr&gt;</th><th scope=col>&lt;chr&gt;</th><th scope=col>&lt;chr&gt;</th><th scope=col>&lt;chr&gt;</th><th scope=col>&lt;dbl&gt;</th></tr>\n",
       "</thead>\n",
       "<tbody>\n",
       "\t<tr><td>1006100102</td><td>ข้าวเปลือกเจ้า      </td><td>BD</td><td>บังกลาเทศ</td><td>Bangladesh</td><td>10</td><td>ต.ค. </td><td>vol2541</td><td>  11950</td></tr>\n",
       "\t<tr><td>1006200104</td><td>ข้าวกล้องอื่นๆ 100 %</td><td>BE</td><td>เบลเยียม </td><td>Belgium   </td><td>01</td><td>ม.ค. </td><td>vol2541</td><td>1763000</td></tr>\n",
       "\t<tr><td>1006200104</td><td>ข้าวกล้องอื่นๆ 100 %</td><td>BE</td><td>เบลเยียม </td><td>Belgium   </td><td>02</td><td>ก.พ. </td><td>vol2541</td><td>1634000</td></tr>\n",
       "\t<tr><td>1006200104</td><td>ข้าวกล้องอื่นๆ 100 %</td><td>BE</td><td>เบลเยียม </td><td>Belgium   </td><td>03</td><td>มี.ค.</td><td>vol2541</td><td>1268500</td></tr>\n",
       "\t<tr><td>1006200104</td><td>ข้าวกล้องอื่นๆ 100 %</td><td>BE</td><td>เบลเยียม </td><td>Belgium   </td><td>04</td><td>เม.ย.</td><td>vol2541</td><td>1655500</td></tr>\n",
       "\t<tr><td>1006200104</td><td>ข้าวกล้องอื่นๆ 100 %</td><td>BE</td><td>เบลเยียม </td><td>Belgium   </td><td>05</td><td>พ.ค. </td><td>vol2541</td><td>2832000</td></tr>\n",
       "</tbody>\n",
       "</table>\n"
      ],
      "text/latex": [
       "A tibble: 6 × 9\n",
       "\\begin{tabular}{lllllllll}\n",
       " hscode & name & country\\_code & country\\_name\\_th & country\\_name\\_en & month & month\\_th & type\\_year & amount\\\\\n",
       " <chr> & <chr> & <chr> & <chr> & <chr> & <chr> & <chr> & <chr> & <dbl>\\\\\n",
       "\\hline\n",
       "\t 1006100102 & ข้าวเปลือกเจ้า       & BD & บังกลาเทศ & Bangladesh & 10 & ต.ค.  & vol2541 &   11950\\\\\n",
       "\t 1006200104 & ข้าวกล้องอื่นๆ 100 \\% & BE & เบลเยียม  & Belgium    & 01 & ม.ค.  & vol2541 & 1763000\\\\\n",
       "\t 1006200104 & ข้าวกล้องอื่นๆ 100 \\% & BE & เบลเยียม  & Belgium    & 02 & ก.พ.  & vol2541 & 1634000\\\\\n",
       "\t 1006200104 & ข้าวกล้องอื่นๆ 100 \\% & BE & เบลเยียม  & Belgium    & 03 & มี.ค. & vol2541 & 1268500\\\\\n",
       "\t 1006200104 & ข้าวกล้องอื่นๆ 100 \\% & BE & เบลเยียม  & Belgium    & 04 & เม.ย. & vol2541 & 1655500\\\\\n",
       "\t 1006200104 & ข้าวกล้องอื่นๆ 100 \\% & BE & เบลเยียม  & Belgium    & 05 & พ.ค.  & vol2541 & 2832000\\\\\n",
       "\\end{tabular}\n"
      ],
      "text/markdown": [
       "\n",
       "A tibble: 6 × 9\n",
       "\n",
       "| hscode &lt;chr&gt; | name &lt;chr&gt; | country_code &lt;chr&gt; | country_name_th &lt;chr&gt; | country_name_en &lt;chr&gt; | month &lt;chr&gt; | month_th &lt;chr&gt; | type_year &lt;chr&gt; | amount &lt;dbl&gt; |\n",
       "|---|---|---|---|---|---|---|---|---|\n",
       "| 1006100102 | ข้าวเปลือกเจ้า       | BD | บังกลาเทศ | Bangladesh | 10 | ต.ค.  | vol2541 |   11950 |\n",
       "| 1006200104 | ข้าวกล้องอื่นๆ 100 % | BE | เบลเยียม  | Belgium    | 01 | ม.ค.  | vol2541 | 1763000 |\n",
       "| 1006200104 | ข้าวกล้องอื่นๆ 100 % | BE | เบลเยียม  | Belgium    | 02 | ก.พ.  | vol2541 | 1634000 |\n",
       "| 1006200104 | ข้าวกล้องอื่นๆ 100 % | BE | เบลเยียม  | Belgium    | 03 | มี.ค. | vol2541 | 1268500 |\n",
       "| 1006200104 | ข้าวกล้องอื่นๆ 100 % | BE | เบลเยียม  | Belgium    | 04 | เม.ย. | vol2541 | 1655500 |\n",
       "| 1006200104 | ข้าวกล้องอื่นๆ 100 % | BE | เบลเยียม  | Belgium    | 05 | พ.ค.  | vol2541 | 2832000 |\n",
       "\n"
      ],
      "text/plain": [
       "  hscode     name                 country_code country_name_th country_name_en\n",
       "1 1006100102 ข้าวเปลือกเจ้า       BD           บังกลาเทศ       Bangladesh     \n",
       "2 1006200104 ข้าวกล้องอื่นๆ 100 % BE           เบลเยียม        Belgium        \n",
       "3 1006200104 ข้าวกล้องอื่นๆ 100 % BE           เบลเยียม        Belgium        \n",
       "4 1006200104 ข้าวกล้องอื่นๆ 100 % BE           เบลเยียม        Belgium        \n",
       "5 1006200104 ข้าวกล้องอื่นๆ 100 % BE           เบลเยียม        Belgium        \n",
       "6 1006200104 ข้าวกล้องอื่นๆ 100 % BE           เบลเยียม        Belgium        \n",
       "  month month_th type_year amount \n",
       "1 10    ต.ค.     vol2541     11950\n",
       "2 01    ม.ค.     vol2541   1763000\n",
       "3 02    ก.พ.     vol2541   1634000\n",
       "4 03    มี.ค.    vol2541   1268500\n",
       "5 04    เม.ย.    vol2541   1655500\n",
       "6 05    พ.ค.     vol2541   2832000"
      ]
     },
     "metadata": {},
     "output_type": "display_data"
    }
   ],
   "source": [
    "path <- \"../data/trade/export_1006_th.xls\"\n",
    "\n",
    "export_1006 <- read_excel(path, skip=1, na = c(\"-\",\"\",0)) %>%\n",
    "    gather(\"type_year\", \"amount\", -(1:7)) %>%\n",
    "    na.omit(cols=\"amount\")\n",
    "\n",
    "head(export_1006)"
   ]
  },
  {
   "cell_type": "markdown",
   "metadata": {},
   "source": [
    "## Countries"
   ]
  },
  {
   "cell_type": "code",
   "execution_count": 10,
   "metadata": {},
   "outputs": [
    {
     "data": {
      "text/html": [
       "<table>\n",
       "<caption>A tibble: 6 × 18</caption>\n",
       "<thead>\n",
       "\t<tr><th scope=col>iso2</th><th scope=col>iso3</th><th scope=col>m49_code</th><th scope=col>usda_code</th><th scope=col>country_name_en_full</th><th scope=col>country_name_short</th><th scope=col>country_name_th_full</th><th scope=col>country_name_th_short</th><th scope=col>country_name_others</th><th scope=col>country_name_oae</th><th scope=col>region</th><th scope=col>subregion</th><th scope=col>region_code</th><th scope=col>subregion_code</th><th scope=col>currency_code</th><th scope=col>currency_name</th><th scope=col>start</th><th scope=col>end</th></tr>\n",
       "\t<tr><th scope=col>&lt;chr&gt;</th><th scope=col>&lt;chr&gt;</th><th scope=col>&lt;dbl&gt;</th><th scope=col>&lt;chr&gt;</th><th scope=col>&lt;chr&gt;</th><th scope=col>&lt;chr&gt;</th><th scope=col>&lt;chr&gt;</th><th scope=col>&lt;chr&gt;</th><th scope=col>&lt;chr&gt;</th><th scope=col>&lt;chr&gt;</th><th scope=col>&lt;chr&gt;</th><th scope=col>&lt;chr&gt;</th><th scope=col>&lt;dbl&gt;</th><th scope=col>&lt;dbl&gt;</th><th scope=col>&lt;chr&gt;</th><th scope=col>&lt;chr&gt;</th><th scope=col>&lt;dbl&gt;</th><th scope=col>&lt;dbl&gt;</th></tr>\n",
       "</thead>\n",
       "<tbody>\n",
       "\t<tr><td>AF</td><td>AFG</td><td>  4</td><td>AF</td><td>Islamic Republic of Afghanistan        </td><td>Afghanistan   </td><td>สาธารณรัฐอิสลามอัฟกานิสถาน          </td><td>อัฟกานิสถาน    </td><td>NA</td><td>อัฟกานิสถาน  </td><td>Asia   </td><td>Southern Asia  </td><td>142</td><td> 34</td><td>AFA          </td><td>Afghanistan Afghani                          </td><td>0</td><td>0</td></tr>\n",
       "\t<tr><td>AX</td><td>ALA</td><td>248</td><td>NA</td><td>Aland Islands                          </td><td>Aland Islands </td><td>หมู่เกาะโอลันด์                     </td><td>หมู่เกาะโอลันด์</td><td>NA</td><td>NA           </td><td>Europe </td><td>Northern Europe</td><td>150</td><td>154</td><td>EUR          </td><td>Euro                                         </td><td>0</td><td>0</td></tr>\n",
       "\t<tr><td>AL</td><td>ALB</td><td>  8</td><td>AL</td><td>Republic of Albania                    </td><td>Albania       </td><td>สาธารณรัฐแอลเบเนีย                  </td><td>แอลเบเนีย      </td><td>NA</td><td>แอลเบเนีย    </td><td>Europe </td><td>Southern Europe</td><td>150</td><td> 39</td><td>ALL          </td><td>Albanian Lek                                 </td><td>0</td><td>0</td></tr>\n",
       "\t<tr><td>DZ</td><td>DZA</td><td> 12</td><td>AG</td><td>People’s Democratic Republic of Algeria</td><td>Algeria       </td><td>สาธารณรัฐประชาธิปไตยประชาชนแอลจีเรีย</td><td>แอลจีเรีย      </td><td>NA</td><td>แอลจีเรีย    </td><td>Africa </td><td>Northern Africa</td><td>  2</td><td> 15</td><td>DZD          </td><td>Algerian Dinar                               </td><td>0</td><td>0</td></tr>\n",
       "\t<tr><td>AS</td><td>ASM</td><td> 16</td><td>NA</td><td>American Samoa                         </td><td>American Samoa</td><td>อเมริกันซามัว                       </td><td>อเมริกันซามัว  </td><td>NA</td><td>อเมริกันแซมโม</td><td>Oceania</td><td>Polynesia      </td><td>  9</td><td> 61</td><td>USD          </td><td>US Dollar                                    </td><td>0</td><td>0</td></tr>\n",
       "\t<tr><td>AD</td><td>AND</td><td> 20</td><td>NA</td><td>Principality of Andorra                </td><td>Andorra       </td><td>ราชรัฐอันดอร์รา                     </td><td>อันดอร์รา      </td><td>NA</td><td>NA           </td><td>Europe </td><td>Southern Europe</td><td>150</td><td> 39</td><td>ESP, FRF, ADP</td><td>Spanish Peseta, French Franc, Andorran Peseta</td><td>0</td><td>0</td></tr>\n",
       "</tbody>\n",
       "</table>\n"
      ],
      "text/latex": [
       "A tibble: 6 × 18\n",
       "\\begin{tabular}{llllllllllllllllll}\n",
       " iso2 & iso3 & m49\\_code & usda\\_code & country\\_name\\_en\\_full & country\\_name\\_short & country\\_name\\_th\\_full & country\\_name\\_th\\_short & country\\_name\\_others & country\\_name\\_oae & region & subregion & region\\_code & subregion\\_code & currency\\_code & currency\\_name & start & end\\\\\n",
       " <chr> & <chr> & <dbl> & <chr> & <chr> & <chr> & <chr> & <chr> & <chr> & <chr> & <chr> & <chr> & <dbl> & <dbl> & <chr> & <chr> & <dbl> & <dbl>\\\\\n",
       "\\hline\n",
       "\t AF & AFG &   4 & AF & Islamic Republic of Afghanistan         & Afghanistan    & สาธารณรัฐอิสลามอัฟกานิสถาน           & อัฟกานิสถาน     & NA & อัฟกานิสถาน   & Asia    & Southern Asia   & 142 &  34 & AFA           & Afghanistan Afghani                           & 0 & 0\\\\\n",
       "\t AX & ALA & 248 & NA & Aland Islands                           & Aland Islands  & หมู่เกาะโอลันด์                      & หมู่เกาะโอลันด์ & NA & NA            & Europe  & Northern Europe & 150 & 154 & EUR           & Euro                                          & 0 & 0\\\\\n",
       "\t AL & ALB &   8 & AL & Republic of Albania                     & Albania        & สาธารณรัฐแอลเบเนีย                   & แอลเบเนีย       & NA & แอลเบเนีย     & Europe  & Southern Europe & 150 &  39 & ALL           & Albanian Lek                                  & 0 & 0\\\\\n",
       "\t DZ & DZA &  12 & AG & People’s Democratic Republic of Algeria & Algeria        & สาธารณรัฐประชาธิปไตยประชาชนแอลจีเรีย & แอลจีเรีย       & NA & แอลจีเรีย     & Africa  & Northern Africa &   2 &  15 & DZD           & Algerian Dinar                                & 0 & 0\\\\\n",
       "\t AS & ASM &  16 & NA & American Samoa                          & American Samoa & อเมริกันซามัว                        & อเมริกันซามัว   & NA & อเมริกันแซมโม & Oceania & Polynesia       &   9 &  61 & USD           & US Dollar                                     & 0 & 0\\\\\n",
       "\t AD & AND &  20 & NA & Principality of Andorra                 & Andorra        & ราชรัฐอันดอร์รา                      & อันดอร์รา       & NA & NA            & Europe  & Southern Europe & 150 &  39 & ESP, FRF, ADP & Spanish Peseta, French Franc, Andorran Peseta & 0 & 0\\\\\n",
       "\\end{tabular}\n"
      ],
      "text/markdown": [
       "\n",
       "A tibble: 6 × 18\n",
       "\n",
       "| iso2 &lt;chr&gt; | iso3 &lt;chr&gt; | m49_code &lt;dbl&gt; | usda_code &lt;chr&gt; | country_name_en_full &lt;chr&gt; | country_name_short &lt;chr&gt; | country_name_th_full &lt;chr&gt; | country_name_th_short &lt;chr&gt; | country_name_others &lt;chr&gt; | country_name_oae &lt;chr&gt; | region &lt;chr&gt; | subregion &lt;chr&gt; | region_code &lt;dbl&gt; | subregion_code &lt;dbl&gt; | currency_code &lt;chr&gt; | currency_name &lt;chr&gt; | start &lt;dbl&gt; | end &lt;dbl&gt; |\n",
       "|---|---|---|---|---|---|---|---|---|---|---|---|---|---|---|---|---|---|\n",
       "| AF | AFG |   4 | AF | Islamic Republic of Afghanistan         | Afghanistan    | สาธารณรัฐอิสลามอัฟกานิสถาน           | อัฟกานิสถาน     | NA | อัฟกานิสถาน   | Asia    | Southern Asia   | 142 |  34 | AFA           | Afghanistan Afghani                           | 0 | 0 |\n",
       "| AX | ALA | 248 | NA | Aland Islands                           | Aland Islands  | หมู่เกาะโอลันด์                      | หมู่เกาะโอลันด์ | NA | NA            | Europe  | Northern Europe | 150 | 154 | EUR           | Euro                                          | 0 | 0 |\n",
       "| AL | ALB |   8 | AL | Republic of Albania                     | Albania        | สาธารณรัฐแอลเบเนีย                   | แอลเบเนีย       | NA | แอลเบเนีย     | Europe  | Southern Europe | 150 |  39 | ALL           | Albanian Lek                                  | 0 | 0 |\n",
       "| DZ | DZA |  12 | AG | People’s Democratic Republic of Algeria | Algeria        | สาธารณรัฐประชาธิปไตยประชาชนแอลจีเรีย | แอลจีเรีย       | NA | แอลจีเรีย     | Africa  | Northern Africa |   2 |  15 | DZD           | Algerian Dinar                                | 0 | 0 |\n",
       "| AS | ASM |  16 | NA | American Samoa                          | American Samoa | อเมริกันซามัว                        | อเมริกันซามัว   | NA | อเมริกันแซมโม | Oceania | Polynesia       |   9 |  61 | USD           | US Dollar                                     | 0 | 0 |\n",
       "| AD | AND |  20 | NA | Principality of Andorra                 | Andorra        | ราชรัฐอันดอร์รา                      | อันดอร์รา       | NA | NA            | Europe  | Southern Europe | 150 |  39 | ESP, FRF, ADP | Spanish Peseta, French Franc, Andorran Peseta | 0 | 0 |\n",
       "\n"
      ],
      "text/plain": [
       "  iso2 iso3 m49_code usda_code country_name_en_full                   \n",
       "1 AF   AFG    4      AF        Islamic Republic of Afghanistan        \n",
       "2 AX   ALA  248      NA        Aland Islands                          \n",
       "3 AL   ALB    8      AL        Republic of Albania                    \n",
       "4 DZ   DZA   12      AG        People’s Democratic Republic of Algeria\n",
       "5 AS   ASM   16      NA        American Samoa                         \n",
       "6 AD   AND   20      NA        Principality of Andorra                \n",
       "  country_name_short country_name_th_full                 country_name_th_short\n",
       "1 Afghanistan        สาธารณรัฐอิสลามอัฟกานิสถาน           อัฟกานิสถาน          \n",
       "2 Aland Islands      หมู่เกาะโอลันด์                      หมู่เกาะโอลันด์      \n",
       "3 Albania            สาธารณรัฐแอลเบเนีย                   แอลเบเนีย            \n",
       "4 Algeria            สาธารณรัฐประชาธิปไตยประชาชนแอลจีเรีย แอลจีเรีย            \n",
       "5 American Samoa     อเมริกันซามัว                        อเมริกันซามัว        \n",
       "6 Andorra            ราชรัฐอันดอร์รา                      อันดอร์รา            \n",
       "  country_name_others country_name_oae region  subregion       region_code\n",
       "1 NA                  อัฟกานิสถาน      Asia    Southern Asia   142        \n",
       "2 NA                  NA               Europe  Northern Europe 150        \n",
       "3 NA                  แอลเบเนีย        Europe  Southern Europe 150        \n",
       "4 NA                  แอลจีเรีย        Africa  Northern Africa   2        \n",
       "5 NA                  อเมริกันแซมโม    Oceania Polynesia         9        \n",
       "6 NA                  NA               Europe  Southern Europe 150        \n",
       "  subregion_code currency_code currency_name                                \n",
       "1  34            AFA           Afghanistan Afghani                          \n",
       "2 154            EUR           Euro                                         \n",
       "3  39            ALL           Albanian Lek                                 \n",
       "4  15            DZD           Algerian Dinar                               \n",
       "5  61            USD           US Dollar                                    \n",
       "6  39            ESP, FRF, ADP Spanish Peseta, French Franc, Andorran Peseta\n",
       "  start end\n",
       "1 0     0  \n",
       "2 0     0  \n",
       "3 0     0  \n",
       "4 0     0  \n",
       "5 0     0  \n",
       "6 0     0  "
      ]
     },
     "metadata": {},
     "output_type": "display_data"
    }
   ],
   "source": [
    "path <- \"../data/_meta/countries.xlsx\"\n",
    "\n",
    "tbl_countries <- read_excel(path, skip=0, na = c(\"-\",\"\"))\n",
    "\n",
    "head(tbl_countries)"
   ]
  },
  {
   "cell_type": "markdown",
   "metadata": {},
   "source": [
    "## HS1006"
   ]
  },
  {
   "cell_type": "code",
   "execution_count": 14,
   "metadata": {},
   "outputs": [
    {
     "data": {
      "text/html": [
       "<table>\n",
       "<caption>A tibble: 6 × 7</caption>\n",
       "<thead>\n",
       "\t<tr><th scope=col>hscode</th><th scope=col>rice_name</th><th scope=col>organic</th><th scope=col>varities</th><th scope=col>milled</th><th scope=col>parboiled</th><th scope=col>grade</th></tr>\n",
       "\t<tr><th scope=col>&lt;chr&gt;</th><th scope=col>&lt;chr&gt;</th><th scope=col>&lt;chr&gt;</th><th scope=col>&lt;chr&gt;</th><th scope=col>&lt;chr&gt;</th><th scope=col>&lt;dbl&gt;</th><th scope=col>&lt;chr&gt;</th></tr>\n",
       "</thead>\n",
       "<tbody>\n",
       "\t<tr><td>10061000001</td><td>ข้าวเปลือกเจ้า  </td><td>non-organic</td><td>white    </td><td>paddy</td><td>0</td><td>others</td></tr>\n",
       "\t<tr><td>10061000002</td><td>ข้าวเปลือกเหนียว</td><td>non-organic</td><td>glutinous</td><td>paddy</td><td>0</td><td>others</td></tr>\n",
       "\t<tr><td>10061010001</td><td>ข้าวเปลือกเจ้า  </td><td>non-organic</td><td>white    </td><td>paddy</td><td>0</td><td>others</td></tr>\n",
       "\t<tr><td>10061010002</td><td>ข้าวเปลือกเหนียว</td><td>non-organic</td><td>glutinous</td><td>paddy</td><td>0</td><td>others</td></tr>\n",
       "\t<tr><td>10061090001</td><td>ข้าวเปลือกเจ้า  </td><td>non-organic</td><td>white    </td><td>paddy</td><td>0</td><td>others</td></tr>\n",
       "\t<tr><td>10061090002</td><td>ข้าวเปลือกเหนียว</td><td>non-organic</td><td>glutinous</td><td>paddy</td><td>0</td><td>others</td></tr>\n",
       "</tbody>\n",
       "</table>\n"
      ],
      "text/latex": [
       "A tibble: 6 × 7\n",
       "\\begin{tabular}{lllllll}\n",
       " hscode & rice\\_name & organic & varities & milled & parboiled & grade\\\\\n",
       " <chr> & <chr> & <chr> & <chr> & <chr> & <dbl> & <chr>\\\\\n",
       "\\hline\n",
       "\t 10061000001 & ข้าวเปลือกเจ้า   & non-organic & white     & paddy & 0 & others\\\\\n",
       "\t 10061000002 & ข้าวเปลือกเหนียว & non-organic & glutinous & paddy & 0 & others\\\\\n",
       "\t 10061010001 & ข้าวเปลือกเจ้า   & non-organic & white     & paddy & 0 & others\\\\\n",
       "\t 10061010002 & ข้าวเปลือกเหนียว & non-organic & glutinous & paddy & 0 & others\\\\\n",
       "\t 10061090001 & ข้าวเปลือกเจ้า   & non-organic & white     & paddy & 0 & others\\\\\n",
       "\t 10061090002 & ข้าวเปลือกเหนียว & non-organic & glutinous & paddy & 0 & others\\\\\n",
       "\\end{tabular}\n"
      ],
      "text/markdown": [
       "\n",
       "A tibble: 6 × 7\n",
       "\n",
       "| hscode &lt;chr&gt; | rice_name &lt;chr&gt; | organic &lt;chr&gt; | varities &lt;chr&gt; | milled &lt;chr&gt; | parboiled &lt;dbl&gt; | grade &lt;chr&gt; |\n",
       "|---|---|---|---|---|---|---|\n",
       "| 10061000001 | ข้าวเปลือกเจ้า   | non-organic | white     | paddy | 0 | others |\n",
       "| 10061000002 | ข้าวเปลือกเหนียว | non-organic | glutinous | paddy | 0 | others |\n",
       "| 10061010001 | ข้าวเปลือกเจ้า   | non-organic | white     | paddy | 0 | others |\n",
       "| 10061010002 | ข้าวเปลือกเหนียว | non-organic | glutinous | paddy | 0 | others |\n",
       "| 10061090001 | ข้าวเปลือกเจ้า   | non-organic | white     | paddy | 0 | others |\n",
       "| 10061090002 | ข้าวเปลือกเหนียว | non-organic | glutinous | paddy | 0 | others |\n",
       "\n"
      ],
      "text/plain": [
       "  hscode      rice_name        organic     varities  milled parboiled grade \n",
       "1 10061000001 ข้าวเปลือกเจ้า   non-organic white     paddy  0         others\n",
       "2 10061000002 ข้าวเปลือกเหนียว non-organic glutinous paddy  0         others\n",
       "3 10061010001 ข้าวเปลือกเจ้า   non-organic white     paddy  0         others\n",
       "4 10061010002 ข้าวเปลือกเหนียว non-organic glutinous paddy  0         others\n",
       "5 10061090001 ข้าวเปลือกเจ้า   non-organic white     paddy  0         others\n",
       "6 10061090002 ข้าวเปลือกเหนียว non-organic glutinous paddy  0         others"
      ]
     },
     "metadata": {},
     "output_type": "display_data"
    },
    {
     "data": {
      "text/html": [
       "<table>\n",
       "<caption>A tibble: 6 × 7</caption>\n",
       "<thead>\n",
       "\t<tr><th scope=col>organic</th><th scope=col>varities</th><th scope=col>milled</th><th scope=col>parboiled</th><th scope=col>grade</th><th scope=col>gr1</th><th scope=col>gr1code</th></tr>\n",
       "\t<tr><th scope=col>&lt;chr&gt;</th><th scope=col>&lt;chr&gt;</th><th scope=col>&lt;chr&gt;</th><th scope=col>&lt;dbl&gt;</th><th scope=col>&lt;chr&gt;</th><th scope=col>&lt;chr&gt;</th><th scope=col>&lt;dbl&gt;</th></tr>\n",
       "</thead>\n",
       "<tbody>\n",
       "\t<tr><td>non-organic</td><td>hommali</td><td>brown </td><td>0</td><td>100   </td><td>hommali</td><td>1</td></tr>\n",
       "\t<tr><td>non-organic</td><td>hommali</td><td>brown </td><td>0</td><td>5     </td><td>hommali</td><td>1</td></tr>\n",
       "\t<tr><td>non-organic</td><td>hommali</td><td>brown </td><td>0</td><td>10    </td><td>hommali</td><td>1</td></tr>\n",
       "\t<tr><td>non-organic</td><td>hommali</td><td>brown </td><td>0</td><td>others</td><td>hommali</td><td>1</td></tr>\n",
       "\t<tr><td>non-organic</td><td>hommali</td><td>brown </td><td>0</td><td>broken</td><td>hommali</td><td>1</td></tr>\n",
       "\t<tr><td>non-organic</td><td>hommali</td><td>milled</td><td>0</td><td>100   </td><td>hommali</td><td>1</td></tr>\n",
       "</tbody>\n",
       "</table>\n"
      ],
      "text/latex": [
       "A tibble: 6 × 7\n",
       "\\begin{tabular}{lllllll}\n",
       " organic & varities & milled & parboiled & grade & gr1 & gr1code\\\\\n",
       " <chr> & <chr> & <chr> & <dbl> & <chr> & <chr> & <dbl>\\\\\n",
       "\\hline\n",
       "\t non-organic & hommali & brown  & 0 & 100    & hommali & 1\\\\\n",
       "\t non-organic & hommali & brown  & 0 & 5      & hommali & 1\\\\\n",
       "\t non-organic & hommali & brown  & 0 & 10     & hommali & 1\\\\\n",
       "\t non-organic & hommali & brown  & 0 & others & hommali & 1\\\\\n",
       "\t non-organic & hommali & brown  & 0 & broken & hommali & 1\\\\\n",
       "\t non-organic & hommali & milled & 0 & 100    & hommali & 1\\\\\n",
       "\\end{tabular}\n"
      ],
      "text/markdown": [
       "\n",
       "A tibble: 6 × 7\n",
       "\n",
       "| organic &lt;chr&gt; | varities &lt;chr&gt; | milled &lt;chr&gt; | parboiled &lt;dbl&gt; | grade &lt;chr&gt; | gr1 &lt;chr&gt; | gr1code &lt;dbl&gt; |\n",
       "|---|---|---|---|---|---|---|\n",
       "| non-organic | hommali | brown  | 0 | 100    | hommali | 1 |\n",
       "| non-organic | hommali | brown  | 0 | 5      | hommali | 1 |\n",
       "| non-organic | hommali | brown  | 0 | 10     | hommali | 1 |\n",
       "| non-organic | hommali | brown  | 0 | others | hommali | 1 |\n",
       "| non-organic | hommali | brown  | 0 | broken | hommali | 1 |\n",
       "| non-organic | hommali | milled | 0 | 100    | hommali | 1 |\n",
       "\n"
      ],
      "text/plain": [
       "  organic     varities milled parboiled grade  gr1     gr1code\n",
       "1 non-organic hommali  brown  0         100    hommali 1      \n",
       "2 non-organic hommali  brown  0         5      hommali 1      \n",
       "3 non-organic hommali  brown  0         10     hommali 1      \n",
       "4 non-organic hommali  brown  0         others hommali 1      \n",
       "5 non-organic hommali  brown  0         broken hommali 1      \n",
       "6 non-organic hommali  milled 0         100    hommali 1      "
      ]
     },
     "metadata": {},
     "output_type": "display_data"
    }
   ],
   "source": [
    "path <- \"../data/_meta/hs1006_th.xlsx\"\n",
    "\n",
    "tbl_hs1006 <- read_excel(path, sheet='hs_rice', skip=0)\n",
    "tbl_hs1006_group <- read_excel(path, sheet='rice_group', skip=0)\n",
    "\n",
    "head(tbl_hs1006)\n",
    "head(tbl_hs1006_group)"
   ]
  },
  {
   "cell_type": "code",
   "execution_count": null,
   "metadata": {},
   "outputs": [],
   "source": []
  }
 ],
 "metadata": {
  "kernelspec": {
   "display_name": "R",
   "language": "R",
   "name": "ir"
  },
  "language_info": {
   "codemirror_mode": "r",
   "file_extension": ".r",
   "mimetype": "text/x-r-source",
   "name": "R",
   "pygments_lexer": "r",
   "version": "3.6.2"
  }
 },
 "nbformat": 4,
 "nbformat_minor": 4
}
